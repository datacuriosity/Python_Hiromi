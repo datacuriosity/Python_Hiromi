{
 "cells": [
  {
   "cell_type": "markdown",
   "metadata": {},
   "source": [
    "## Ex 1.\n",
    "\n",
    "Writing a function calculate a factorial of a given number. For example: with n = 8 the factorial of 8 is `1*2*3*4*5*6*7*8` = 40320."
   ]
  },
  {
   "cell_type": "code",
   "execution_count": null,
   "metadata": {},
   "outputs": [],
   "source": [
    "def factorial(n):\n",
    "    if n == 1:\n",
    "        return n\n",
    "    return n + facro\n",
    "    return "
   ]
  },
  {
   "cell_type": "code",
   "execution_count": null,
   "metadata": {},
   "outputs": [],
   "source": [
    "# Testing\n",
    "n = 5\n",
    "assert factorial(n) == 120, \"Wrong answer, please calculate again\""
   ]
  },
  {
   "cell_type": "markdown",
   "metadata": {},
   "source": [
    "## Ex 2.\n",
    "\n",
    "Writing a function calculate sum of all element number of a positive number in python.\n",
    "For example: with n = 3721, sum of all elements: 2 + 7 + 2 + 1 = 10"
   ]
  },
  {
   "cell_type": "code",
   "execution_count": null,
   "metadata": {},
   "outputs": [],
   "source": [
    "def sum_all(number):\n",
    "    # Your code here\n",
    "    return"
   ]
  },
  {
   "cell_type": "code",
   "execution_count": null,
   "metadata": {},
   "outputs": [],
   "source": [
    "# Testing\n",
    "number = 34103\n",
    "assert sum_all(number) == 11, \"Wrong answer, please calculate again\""
   ]
  },
  {
   "cell_type": "markdown",
   "metadata": {},
   "source": [
    "## Ex 3.\n",
    "\n",
    "Find a maximum number of a given list or tuple"
   ]
  },
  {
   "cell_type": "code",
   "execution_count": null,
   "metadata": {},
   "outputs": [],
   "source": [
    "def maximum(li):\n",
    "    # Your code here\n",
    "    return"
   ]
  },
  {
   "cell_type": "code",
   "execution_count": null,
   "metadata": {},
   "outputs": [],
   "source": [
    "# Testing\n",
    "number = [1, 2, 6, 8, 10]\n",
    "assert maximum(number) == 10, \"Wrong answer, please calculate again\""
   ]
  },
  {
   "cell_type": "markdown",
   "metadata": {},
   "source": [
    "## Ex 4.\n",
    "\n",
    "Find a second maximum number of a given list or tuple"
   ]
  },
  {
   "cell_type": "code",
   "execution_count": null,
   "metadata": {},
   "outputs": [],
   "source": [
    "def second_maximum(li):\n",
    "    # Your code here\n",
    "    return"
   ]
  },
  {
   "cell_type": "code",
   "execution_count": null,
   "metadata": {},
   "outputs": [],
   "source": [
    "# Testing\n",
    "number = [1, 2, 6, 8, 10]\n",
    "assert second_maximum(number) == 8, \"Wrong answer, please calculate again\""
   ]
  },
  {
   "cell_type": "markdown",
   "metadata": {},
   "source": [
    "## Ex 5.\n",
    "\n",
    "Wring a function with input are 2 strings and return the string that has longer lengh. If 2 strings have equals lengh, return tuple of all strings "
   ]
  },
  {
   "cell_type": "code",
   "execution_count": null,
   "metadata": {},
   "outputs": [],
   "source": [
    "def greater_string(str_1, str_2):\n",
    "    # Your code here\n",
    "    return"
   ]
  },
  {
   "cell_type": "code",
   "execution_count": null,
   "metadata": {},
   "outputs": [],
   "source": [
    "# Test 1\n",
    "str_1 = \"My name is\"\n",
    "str_2 = \"My university\"\n",
    "\n",
    "assert len(greater_string(str_1, str_2)) == len(str_2), \"Wrong answer, please code again\"\n",
    "\n",
    "\n",
    "#Test 2\n",
    "\n",
    "str_1 = \"My name is\"\n",
    "str_2 = \"My name ar\"\n",
    "\n",
    "assert greater_string(str_1, str_2) == (str_1, str_2), \"Wrong answer, please code again\""
   ]
  },
  {
   "cell_type": "markdown",
   "metadata": {},
   "source": [
    "## Ex 6.\n",
    "\n",
    "Remove duplicated values, but keep the order of the remaining values\n",
    "\n",
    "Ví dụ: aaabbbbcccddd1111 --> abcd1"
   ]
  },
  {
   "cell_type": "code",
   "execution_count": null,
   "metadata": {},
   "outputs": [],
   "source": [
    "def remove_duplicated(str_1):\n",
    "    # Your code here\n",
    "    return"
   ]
  },
  {
   "cell_type": "code",
   "execution_count": null,
   "metadata": {},
   "outputs": [],
   "source": [
    "# Testing\n",
    "str_1 = \"cccccddddeeeeffff22222\"\n",
    "\n",
    "assert remove_duplicated(str_1) == \"cdef2\""
   ]
  }
 ],
 "metadata": {
  "kernelspec": {
   "display_name": "Python 3",
   "language": "python",
   "name": "python3"
  },
  "language_info": {
   "codemirror_mode": {
    "name": "ipython",
    "version": 3
   },
   "file_extension": ".py",
   "mimetype": "text/x-python",
   "name": "python",
   "nbconvert_exporter": "python",
   "pygments_lexer": "ipython3",
   "version": "3.6.10"
  }
 },
 "nbformat": 4,
 "nbformat_minor": 4
}
